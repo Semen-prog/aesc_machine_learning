{
 "cells": [
  {
   "cell_type": "markdown",
   "metadata": {},
   "source": [
    "# ДЗ №1 СУНЦ МГУ - Numpy practice"
   ]
  },
  {
   "cell_type": "markdown",
   "metadata": {},
   "source": [
    "_Задачи позаимствованы из курса ML ФКН ПМИ где они были позаимствованы из курса практикума кафедры ММП факультета ВМК МГУ_ "
   ]
  },
  {
   "cell_type": "markdown",
   "metadata": {},
   "source": [
    "### Туториальные задачи\n",
    "__(9 баллов)__\n",
    "\n",
    "Ниже приведены задачи на работу с numpy-массивами. Для каждой из задач нужно привести 2 реализации: одна без использования numpy (cчитайте, что там, где на входе или выходе должны быть numpy array, будут просто списки), а вторая полностью векторизованная (без использования питоновских циклов/map/list comprehension). Невекторизованная реализация каждой из задач оценивается в __0.5 балла__, векторизованная – в __1 балл__.\n",
    "\n",
    "Реализации без использования векторизации нужно записать в файл functions.py, а векторизованные &mdash; в файл functions_vectorized.py\n",
    "\n",
    "Для каждой задачи, приведённой ниже сравните скорость работы невекторизованной и векторизованной реализации. С помощью пакета matplotlib постройте графики времени работы в зависимости от размера данных. __Графики должны выглядеть опрятно!__"
   ]
  },
  {
   "cell_type": "code",
   "execution_count": 2,
   "metadata": {},
   "outputs": [],
   "source": [
    "import matplotlib.pyplot as plt\n",
    "import numpy as np\n",
    "from random import randint\n",
    "from time import time"
   ]
  },
  {
   "cell_type": "markdown",
   "metadata": {},
   "source": [
    "# Решение\n",
    "\n",
    "Ниже представлена реализация функций ДЗ, а также функций тестирования. В каждой задаче есть __3 функции__:\n",
    "\n",
    "- Функция *simple*. Описывает невекторизованное решение.\n",
    "- Функция *vect*. Описывает векторизованное решение.\n",
    "- Функция *gen*. Генератор. Принимает на вход $sz$ - линейный размер входных данных или $-1$, если необходимо сгенерировать случайный тест. Возвращает True/False (совпадают ли ответы), если $sz = -1$, или пару времен работы простого и векторизованного решения иначе.\n",
    "\n",
    "Вспомогательные функции:\n",
    "\n",
    "- Функция *paint*. Рисует графики. Принимает $k$ - кол-во точек измерения, $step$ - расстояние между соседними точками.\n",
    "- Функция *stress*. Производит тестирование. Принимает $tests$ - кол-во тестов. "
   ]
  },
  {
   "cell_type": "code",
   "execution_count": 165,
   "metadata": {},
   "outputs": [],
   "source": [
    "def paint(gen, step=100, k=25):\n",
    "    sizes = np.array([i * step + 1 for i in range(0, k)])\n",
    "    simplearr, vectarr = [], []\n",
    "\n",
    "    print(\"Counting started\")\n",
    "\n",
    "    for i in range(0, k):\n",
    "        (st, vt) = gen(sizes[i])\n",
    "        simplearr.append(st)\n",
    "        vectarr.append(vt)\n",
    "        print(f\"Step {i} complete!\")\n",
    "\n",
    "    simplearr = np.array(simplearr)\n",
    "    vectarr = np.array(vectarr)\n",
    "\n",
    "    plt.plot(sizes, simplearr, label=u\"Невекторизованная\")\n",
    "    plt.plot(sizes, vectarr, label=u\"Векторизованная\")\n",
    "    plt.xlabel(\"Линейные размеры данных\")\n",
    "    plt.ylabel(\"Время\")\n",
    "    plt.grid()\n",
    "    plt.legend()\n",
    "\n",
    "    plt.show()\n",
    "\n",
    "def stress(gen, tests=100):\n",
    "    for _ in range(tests):\n",
    "        if not gen(-1):\n",
    "            return False\n",
    "        print(f\"Test {_} complete!\")\n",
    "    return True"
   ]
  },
  {
   "cell_type": "markdown",
   "metadata": {},
   "source": [
    "* __Задача 1__: Подсчитать произведение ненулевых элементов на диагонали прямоугольной матрицы.  \n",
    " Например, для X = np.array([[1, 0, 1], [2, 0, 2], [3, 0, 3], [4, 4, 4]]) ответ – 3."
   ]
  },
  {
   "cell_type": "code",
   "execution_count": 246,
   "metadata": {},
   "outputs": [],
   "source": [
    "def nonzero_diag_simple(X: list):\n",
    "    n, m = len(X), len(X[0])\n",
    "    cnt = np.int64(1)\n",
    "    for i in range(min(n, m)):\n",
    "        if X[i][i] != 0:\n",
    "            cnt *= X[i][i]\n",
    "    return cnt\n",
    "\n",
    "def nonzero_diag_vect(X: np.ndarray):\n",
    "    diag = X.diagonal().copy()\n",
    "    diag[diag == 0] = 1\n",
    "    return diag.prod()\n",
    "\n",
    "\n",
    "def nonzero_diag_gen(sz: int):\n",
    "    if sz == -1:\n",
    "        n = randint(1, 1000)\n",
    "        m = randint(1, 1000)\n",
    "    else:\n",
    "        n = sz\n",
    "        m = sz\n",
    "        \n",
    "    arr = [[0 if randint(0, 1) == 0 else randint(-1000000000, 1000000000) for _ in range(m)] for _ in range(n)]\n",
    "    start = time()\n",
    "    simple_ans = nonzero_diag_simple(arr)\n",
    "    simple_time = time() - start\n",
    "    arr = np.array(arr)\n",
    "    start = time()\n",
    "    vect_ans = nonzero_diag_vect(arr)\n",
    "    vect_time = time() - start\n",
    "    return simple_ans == vect_ans if sz == -1 else (simple_time, vect_time)\n"
   ]
  },
  {
   "cell_type": "code",
   "execution_count": 248,
   "metadata": {},
   "outputs": [],
   "source": [
    "stress(nonzero_diag_gen)"
   ]
  },
  {
   "cell_type": "code",
   "execution_count": 249,
   "metadata": {},
   "outputs": [
    {
     "name": "stdout",
     "output_type": "stream",
     "text": [
      "Counting started\n",
      "Step 0 complete!\n",
      "Step 1 complete!\n",
      "Step 2 complete!\n"
     ]
    },
    {
     "name": "stderr",
     "output_type": "stream",
     "text": [
      "/tmp/ipykernel_4072/3889832502.py:6: RuntimeWarning: overflow encountered in scalar multiply\n",
      "  cnt *= X[i][i]\n"
     ]
    },
    {
     "name": "stdout",
     "output_type": "stream",
     "text": [
      "Step 3 complete!\n",
      "Step 4 complete!\n",
      "Step 5 complete!\n",
      "Step 6 complete!\n",
      "Step 7 complete!\n",
      "Step 8 complete!\n",
      "Step 9 complete!\n",
      "Step 10 complete!\n",
      "Step 11 complete!\n",
      "Step 12 complete!\n",
      "Step 13 complete!\n",
      "Step 14 complete!\n",
      "Step 15 complete!\n",
      "Step 16 complete!\n",
      "Step 17 complete!\n",
      "Step 18 complete!\n",
      "Step 19 complete!\n"
     ]
    },
    {
     "data": {
      "image/png": "[encoded data removed]",
      "text/plain": [
       "<Figure size 640x480 with 1 Axes>"
      ]
     },
     "metadata": {},
     "output_type": "display_data"
    }
   ],
   "source": [
    "paint(nonzero_diag_gen, step=50, k=20)"
   ]
  },
  {
   "cell_type": "markdown",
   "metadata": {},
   "source": [
    " \n",
    " \n",
    "* __Задача 2__: Даны два вектора x и y. Проверить, задают ли они одно и то же мультимножество.  \n",
    "  Например, для x = np.array([1, 2, 2, 4]), y = np.array([4, 2, 1, 2]) ответ – True.\n",
    "  \n",
    "  \n"
   ]
  },
  {
   "cell_type": "code",
   "execution_count": 70,
   "metadata": {},
   "outputs": [],
   "source": [
    "def multiset_simple(x: list, y: list):\n",
    "    return sorted(x) == sorted(y)\n",
    "\n",
    "def multiset_vect(x: np.ndarray, y: np.ndarray):\n",
    "    return np.array_equal(np.sort(x), np.sort(y))\n",
    "\n",
    "def multiset_gen(sz: int):\n",
    "    if sz == -1:\n",
    "        t = randint(0, 2)\n",
    "        n = randint(1, 30000)\n",
    "        x = [randint(1, 1000000000) for _ in range(n)]\n",
    "        if t == 0:\n",
    "            m = randint(1, 300000)\n",
    "            y = [randint(1, 1000000000) for _ in range(m)]\n",
    "        elif t == 1:\n",
    "            m = n\n",
    "            y = [randint(1, 1000000000) for _ in range(m)]\n",
    "        else:\n",
    "            m = n\n",
    "            y = x\n",
    "    else:\n",
    "        type = randint(0, 1)\n",
    "        n = sz\n",
    "        x = [randint(1, 1000000000) for _ in range(n)]\n",
    "        if type == 0:\n",
    "            y = x\n",
    "        else:\n",
    "            y = [randint(1, 1000000000) for _ in range(n)]\n",
    "    nx = np.array(x)\n",
    "    ny = np.array(y)\n",
    "    start = time()\n",
    "    sa = multiset_simple(x, y)\n",
    "    st = time() - start\n",
    "    start = time()\n",
    "    va = multiset_vect(nx, ny)\n",
    "    vt = time() - start\n",
    "\n",
    "    return sa == va if sz == -1 else (st, vt) "
   ]
  },
  {
   "cell_type": "code",
   "execution_count": null,
   "metadata": {},
   "outputs": [],
   "source": [
    "stress(multiset_gen)"
   ]
  },
  {
   "cell_type": "code",
   "execution_count": 244,
   "metadata": {},
   "outputs": [
    {
     "name": "stdout",
     "output_type": "stream",
     "text": [
      "Counting started\n",
      "Step 0 complete!\n",
      "Step 1 complete!\n",
      "Step 2 complete!\n",
      "Step 3 complete!\n",
      "Step 4 complete!\n",
      "Step 5 complete!\n",
      "Step 6 complete!\n",
      "Step 7 complete!\n",
      "Step 8 complete!\n",
      "Step 9 complete!\n",
      "Step 10 complete!\n",
      "Step 11 complete!\n",
      "Step 12 complete!\n",
      "Step 13 complete!\n",
      "Step 14 complete!\n",
      "Step 15 complete!\n",
      "Step 16 complete!\n",
      "Step 17 complete!\n",
      "Step 18 complete!\n",
      "Step 19 complete!\n",
      "Step 20 complete!\n",
      "Step 21 complete!\n",
      "Step 22 complete!\n",
      "Step 23 complete!\n",
      "Step 24 complete!\n",
      "Step 25 complete!\n",
      "Step 26 complete!\n",
      "Step 27 complete!\n",
      "Step 28 complete!\n",
      "Step 29 complete!\n",
      "Step 30 complete!\n",
      "Step 31 complete!\n",
      "Step 32 complete!\n",
      "Step 33 complete!\n",
      "Step 34 complete!\n",
      "Step 35 complete!\n",
      "Step 36 complete!\n",
      "Step 37 complete!\n",
      "Step 38 complete!\n",
      "Step 39 complete!\n"
     ]
    },
    {
     "data": {
      "image/png": "[encoded data removed]",
      "text/plain": [
       "<Figure size 640x480 with 1 Axes>"
      ]
     },
     "metadata": {},
     "output_type": "display_data"
    }
   ],
   "source": [
    "paint(multiset_gen, step=1000, k=40)"
   ]
  },
  {
   "cell_type": "markdown",
   "metadata": {},
   "source": [
    "* __Задача 3__: Найти максимальный элемент в векторе x среди элементов, перед которыми стоит нулевой.  \n",
    " Например, для x = np.array([6, 2, 0, 3, 0, 0, 5, 7, 0]) ответ – 5."
   ]
  },
  {
   "cell_type": "code",
   "execution_count": 72,
   "metadata": {},
   "outputs": [],
   "source": [
    "def max_zero_simple(x: list):\n",
    "    ind = -1\n",
    "    for i in range(1, len(x)):\n",
    "        if x[i - 1] != 0:\n",
    "            continue\n",
    "        if ind == -1 or x[ind] < x[i]:\n",
    "            ind = i\n",
    "    if ind == -1:\n",
    "        return None\n",
    "    return x[ind]\n",
    "\n",
    "def max_zero_vect(x: np.ndarray):\n",
    "    y = np.roll(x, 1)\n",
    "    y[0] = -1\n",
    "    try:\n",
    "        return x[y == 0].max()\n",
    "    except:\n",
    "        return None\n",
    "    \n",
    "def max_zero_gen(sz: int):\n",
    "    if sz == -1:\n",
    "        n = randint(0, 300000)\n",
    "    else:\n",
    "        n = sz\n",
    "    x = [randint(1, 1000000000) if randint(0, 1) == 0 else 0 for _ in range(n)]\n",
    "    nx = np.array(x)\n",
    "    start = time()\n",
    "    sa = max_zero_simple(x)\n",
    "    st = time() - start\n",
    "    start = time()\n",
    "    va = max_zero_vect(nx)\n",
    "    vt = time() - start\n",
    "    \n",
    "    return sa == va if sz == -1 else (st, vt) "
   ]
  },
  {
   "cell_type": "code",
   "execution_count": null,
   "metadata": {},
   "outputs": [],
   "source": [
    "stress(max_zero_gen)"
   ]
  },
  {
   "cell_type": "code",
   "execution_count": 155,
   "metadata": {},
   "outputs": [],
   "source": [
    "paint(max_zero_gen, step=200, k=200)"
   ]
  },
  {
   "cell_type": "markdown",
   "metadata": {},
   "source": [
    " \n",
    " \n",
    "* __Задача 4__: Дан трёхмерный массив, содержащий изображение, размера (height, width, numChannels), а также вектор длины numChannels. Сложить каналы изображения с указанными весами, и вернуть результат в виде матрицы размера (height, width). В ноутбуке приведите пример работы функции – преобразуйте цветное изображение в оттенки серого, использовав коэффициенты np.array([0.299, 0.587, 0.114]). Считать реальное изображение можно при помощи функции scipy.misc.imread (если изображение не в формате png, установите пакет pillow).\n"
   ]
  },
  {
   "cell_type": "code",
   "execution_count": 252,
   "metadata": {},
   "outputs": [],
   "source": [
    "from imageio import imread, imsave\n",
    "from PIL import Image\n",
    "\n",
    "def image_simple(arr: list, coefs: list):\n",
    "    height = len(arr)\n",
    "    width = len(arr[0])\n",
    "    res = [[0 for _ in range(width)] for _ in range(height)]\n",
    "    for i in range(height):\n",
    "        for j in range(width):\n",
    "            for k in range(len(coefs)):\n",
    "                res[i][j] += arr[i][j][k] * coefs[k]\n",
    "    return res\n",
    "\n",
    "def image_vect(arr: np.ndarray, coefs: np.ndarray):\n",
    "    return np.dot(arr, coefs)\n",
    "\n",
    "def image_test(uri, target_uri):\n",
    "    data = imread(uri)\n",
    "    data = image_vect(data, np.array([0.299, 0.587, 0.114]))\n",
    "    data = np.dstack([data, data, data])\n",
    "    imsave(target_uri, data.astype('uint8'))\n",
    "    img = Image.open(target_uri)\n",
    "    plt.imshow(img)\n",
    "    plt.show()\n",
    "\n",
    "def image_gen(sz: int):\n",
    "    if sz == -1:\n",
    "        n = randint(1, 100)\n",
    "        m = randint(1, 100)\n",
    "    else:\n",
    "        n = sz\n",
    "        m = sz\n",
    "    x = [[[randint(0, 255), randint(0, 255), randint(0, 255)] for _ in range(m)] for _ in range(n)]\n",
    "    nx = np.array(x).astype('uint8')\n",
    "    start = time()\n",
    "    sa = image_simple(x, [0.299, 0.587, 0.114])\n",
    "    st = time() - start\n",
    "    start = time()\n",
    "    va = image_vect(nx, np.array([0.299, 0.587, 0.114]))\n",
    "    vt = time() - start\n",
    "    return np.array_equal(sa, va) if sz == -1 else (st, vt)"
   ]
  },
  {
   "cell_type": "code",
   "execution_count": 253,
   "metadata": {},
   "outputs": [
    {
     "name": "stdout",
     "output_type": "stream",
     "text": [
      "Test 0 complete!\n",
      "Test 1 complete!\n",
      "Test 2 complete!\n",
      "Test 3 complete!\n",
      "Test 4 complete!\n",
      "Test 5 complete!\n",
      "Test 6 complete!\n",
      "Test 7 complete!\n",
      "Test 8 complete!\n",
      "Test 9 complete!\n",
      "Test 10 complete!\n",
      "Test 11 complete!\n",
      "Test 12 complete!\n",
      "Test 13 complete!\n",
      "Test 14 complete!\n",
      "Test 15 complete!\n",
      "Test 16 complete!\n",
      "Test 17 complete!\n",
      "Test 18 complete!\n",
      "Test 19 complete!\n",
      "Test 20 complete!\n",
      "Test 21 complete!\n",
      "Test 22 complete!\n",
      "Test 23 complete!\n",
      "Test 24 complete!\n",
      "Test 25 complete!\n",
      "Test 26 complete!\n",
      "Test 27 complete!\n",
      "Test 28 complete!\n",
      "Test 29 complete!\n",
      "Test 30 complete!\n",
      "Test 31 complete!\n",
      "Test 32 complete!\n",
      "Test 33 complete!\n",
      "Test 34 complete!\n",
      "Test 35 complete!\n",
      "Test 36 complete!\n",
      "Test 37 complete!\n",
      "Test 38 complete!\n",
      "Test 39 complete!\n",
      "Test 40 complete!\n",
      "Test 41 complete!\n",
      "Test 42 complete!\n",
      "Test 43 complete!\n",
      "Test 44 complete!\n",
      "Test 45 complete!\n",
      "Test 46 complete!\n",
      "Test 47 complete!\n",
      "Test 48 complete!\n",
      "Test 49 complete!\n",
      "Test 50 complete!\n",
      "Test 51 complete!\n",
      "Test 52 complete!\n",
      "Test 53 complete!\n",
      "Test 54 complete!\n",
      "Test 55 complete!\n",
      "Test 56 complete!\n",
      "Test 57 complete!\n",
      "Test 58 complete!\n",
      "Test 59 complete!\n",
      "Test 60 complete!\n",
      "Test 61 complete!\n",
      "Test 62 complete!\n",
      "Test 63 complete!\n",
      "Test 64 complete!\n",
      "Test 65 complete!\n",
      "Test 66 complete!\n",
      "Test 67 complete!\n",
      "Test 68 complete!\n",
      "Test 69 complete!\n",
      "Test 70 complete!\n",
      "Test 71 complete!\n",
      "Test 72 complete!\n",
      "Test 73 complete!\n",
      "Test 74 complete!\n",
      "Test 75 complete!\n",
      "Test 76 complete!\n",
      "Test 77 complete!\n",
      "Test 78 complete!\n",
      "Test 79 complete!\n",
      "Test 80 complete!\n",
      "Test 81 complete!\n",
      "Test 82 complete!\n",
      "Test 83 complete!\n",
      "Test 84 complete!\n",
      "Test 85 complete!\n",
      "Test 86 complete!\n",
      "Test 87 complete!\n",
      "Test 88 complete!\n",
      "Test 89 complete!\n",
      "Test 90 complete!\n",
      "Test 91 complete!\n",
      "Test 92 complete!\n",
      "Test 93 complete!\n",
      "Test 94 complete!\n",
      "Test 95 complete!\n",
      "Test 96 complete!\n",
      "Test 97 complete!\n",
      "Test 98 complete!\n",
      "Test 99 complete!\n"
     ]
    },
    {
     "data": {
      "text/plain": [
       "True"
      ]
     },
     "execution_count": 253,
     "metadata": {},
     "output_type": "execute_result"
    }
   ],
   "source": [
    "stress(image_gen)"
   ]
  },
  {
   "cell_type": "code",
   "execution_count": 171,
   "metadata": {},
   "outputs": [],
   "source": [
    "image_test('/home/semen/Development/aescml/test/test_img.png', '/home/semen/Development/aescml/test/res_img.png')"
   ]
  },
  {
   "cell_type": "code",
   "execution_count": 172,
   "metadata": {},
   "outputs": [],
   "source": [
    "paint(image_gen, step=20, k=20)"
   ]
  },
  {
   "cell_type": "markdown",
   "metadata": {},
   "source": [
    "* __Задача 5__: Реализовать кодирование длин серий (Run-length encoding). Для некоторого вектора x необходимо вернуть кортеж из двух векторов одинаковой длины. Первый содержит числа, а второй - сколько раз их нужно повторить.  \n",
    " Например, для x = np.array([2, 2, 2, 3, 3, 3, 5]) ответ – (np.array([2, 3, 5]), np.array([3, 3, 1]))."
   ]
  },
  {
   "cell_type": "code",
   "execution_count": 191,
   "metadata": {},
   "outputs": [],
   "source": [
    "def encode_simple(x: list):\n",
    "    a = []\n",
    "    cnt = []\n",
    "    for i in range(len(x)):\n",
    "        if i == 0 or x[i] != x[i - 1]:\n",
    "            a.append(x[i])\n",
    "            cnt.append(0)\n",
    "        cnt[-1] += 1\n",
    "    return (a, cnt)\n",
    "\n",
    "def encode_vect(x: np.ndarray):\n",
    "    y = np.cumsum(np.ones(len(x)))\n",
    "    d = np.hstack([np.array([1]), np.diff(x)])\n",
    "    val = x[d != 0]\n",
    "    dist = np.diff(np.hstack([y[d != 0], np.array([len(x) + 1])])).astype('int64')\n",
    "    return (val, dist)\n",
    "\n",
    "def encode_gen(sz: int):\n",
    "    if sz == -1:\n",
    "        n = randint(1, 100000)\n",
    "    else:\n",
    "        n = sz\n",
    "    x = [randint(0, 1000000000)]\n",
    "    for i in range(1, n):\n",
    "        x.append(x[-1] if randint(0, 1) == 0 else randint(0, 1000000000))\n",
    "    nx = np.array(x)\n",
    "    start = time()\n",
    "    sa = encode_simple(x)\n",
    "    st = time() - start\n",
    "    start = time()\n",
    "    va = encode_vect(nx)\n",
    "    vt = time() - start\n",
    "    return np.array_equal(sa[0], va[0]) and np.array_equal(sa[1], va[1]) if sz == -1 else (st, vt)"
   ]
  },
  {
   "cell_type": "code",
   "execution_count": 242,
   "metadata": {},
   "outputs": [
    {
     "name": "stdout",
     "output_type": "stream",
     "text": [
      "Test 0 complete!\n",
      "Test 1 complete!\n",
      "Test 2 complete!\n",
      "Test 3 complete!\n",
      "Test 4 complete!\n",
      "Test 5 complete!\n",
      "Test 6 complete!\n",
      "Test 7 complete!\n",
      "Test 8 complete!\n",
      "Test 9 complete!\n",
      "Test 10 complete!\n",
      "Test 11 complete!\n",
      "Test 12 complete!\n",
      "Test 13 complete!\n",
      "Test 14 complete!\n",
      "Test 15 complete!\n",
      "Test 16 complete!\n",
      "Test 17 complete!\n",
      "Test 18 complete!\n",
      "Test 19 complete!\n",
      "Test 20 complete!\n",
      "Test 21 complete!\n",
      "Test 22 complete!\n",
      "Test 23 complete!\n",
      "Test 24 complete!\n",
      "Test 25 complete!\n",
      "Test 26 complete!\n",
      "Test 27 complete!\n",
      "Test 28 complete!\n",
      "Test 29 complete!\n",
      "Test 30 complete!\n",
      "Test 31 complete!\n",
      "Test 32 complete!\n",
      "Test 33 complete!\n",
      "Test 34 complete!\n",
      "Test 35 complete!\n",
      "Test 36 complete!\n",
      "Test 37 complete!\n",
      "Test 38 complete!\n",
      "Test 39 complete!\n",
      "Test 40 complete!\n",
      "Test 41 complete!\n",
      "Test 42 complete!\n",
      "Test 43 complete!\n",
      "Test 44 complete!\n",
      "Test 45 complete!\n",
      "Test 46 complete!\n",
      "Test 47 complete!\n",
      "Test 48 complete!\n",
      "Test 49 complete!\n",
      "Test 50 complete!\n",
      "Test 51 complete!\n",
      "Test 52 complete!\n",
      "Test 53 complete!\n",
      "Test 54 complete!\n",
      "Test 55 complete!\n",
      "Test 56 complete!\n",
      "Test 57 complete!\n",
      "Test 58 complete!\n",
      "Test 59 complete!\n",
      "Test 60 complete!\n",
      "Test 61 complete!\n",
      "Test 62 complete!\n",
      "Test 63 complete!\n",
      "Test 64 complete!\n",
      "Test 65 complete!\n",
      "Test 66 complete!\n",
      "Test 67 complete!\n",
      "Test 68 complete!\n",
      "Test 69 complete!\n",
      "Test 70 complete!\n",
      "Test 71 complete!\n",
      "Test 72 complete!\n",
      "Test 73 complete!\n",
      "Test 74 complete!\n",
      "Test 75 complete!\n",
      "Test 76 complete!\n",
      "Test 77 complete!\n",
      "Test 78 complete!\n",
      "Test 79 complete!\n",
      "Test 80 complete!\n",
      "Test 81 complete!\n",
      "Test 82 complete!\n",
      "Test 83 complete!\n",
      "Test 84 complete!\n",
      "Test 85 complete!\n",
      "Test 86 complete!\n",
      "Test 87 complete!\n",
      "Test 88 complete!\n",
      "Test 89 complete!\n",
      "Test 90 complete!\n",
      "Test 91 complete!\n",
      "Test 92 complete!\n",
      "Test 93 complete!\n",
      "Test 94 complete!\n",
      "Test 95 complete!\n",
      "Test 96 complete!\n",
      "Test 97 complete!\n",
      "Test 98 complete!\n",
      "Test 99 complete!\n"
     ]
    },
    {
     "data": {
      "text/plain": [
       "True"
      ]
     },
     "execution_count": 242,
     "metadata": {},
     "output_type": "execute_result"
    }
   ],
   "source": [
    "stress(encode_gen)"
   ]
  },
  {
   "cell_type": "code",
   "execution_count": null,
   "metadata": {},
   "outputs": [],
   "source": [
    "paint(encode_gen, step=500, k=40)"
   ]
  },
  {
   "cell_type": "markdown",
   "metadata": {},
   "source": [
    " \n",
    " \n",
    "* __Задача 6__: Даны две выборки объектов - X и Y. Вычислить матрицу евклидовых расстояний между объектами. Дополнительно сравните с функцией scipy.spatial.distance.cdist по скорости работы (сравнения приведите ниже в ноутбуке)."
   ]
  },
  {
   "cell_type": "code",
   "execution_count": 238,
   "metadata": {},
   "outputs": [],
   "source": [
    "import scipy.spatial\n",
    "\n",
    "def distance_simple(X: list, Y: list):\n",
    "    arr = []\n",
    "    for x in X:\n",
    "        arr.append([])\n",
    "        for y in Y:\n",
    "            cnt = np.int64(0)\n",
    "            for xi, yi in zip(x, y):\n",
    "                cnt += (xi - yi) ** 2\n",
    "            arr[-1].append(cnt)\n",
    "    return arr\n",
    "\n",
    "def distance_vect(X: np.ndarray, Y: np.ndarray):\n",
    "    xx = np.diagonal(np.dot(X, X.T)).reshape(len(X), 1)\n",
    "    yy = np.diagonal(np.dot(Y, Y.T)).reshape(1, len(Y))\n",
    "    xy = np.dot(X, Y.T) * (-2)\n",
    "    xy += xx\n",
    "    xy += yy\n",
    "    return xy\n",
    "\n",
    "def distance_base(X: np.ndarray, Y: np.ndarray):\n",
    "    return scipy.spatial.distance.cdist(X, Y)\n",
    "\n",
    "def distance_gen(sz: int):\n",
    "    if sz == -1:\n",
    "        n = randint(1, 100)\n",
    "        m = randint(1, 100)\n",
    "    else:\n",
    "        n = sz\n",
    "        m = sz\n",
    "    x = [[randint(-1000000000, 1000000000) for _ in range(m)] for _ in range(n)]\n",
    "    y = [[randint(-1000000000, 1000000000) for _ in range(m)] for _ in range(n)]\n",
    "    nx = np.array(x).astype('int64')\n",
    "    ny = np.array(y).astype('int64')\n",
    "    start = time()\n",
    "    sa = distance_simple(x, y)\n",
    "    st = time() - start\n",
    "    start = time()\n",
    "    va = distance_vect(nx, ny)\n",
    "    vt = time() - start\n",
    "    start = time()\n",
    "    distance_base(nx, ny)\n",
    "    bt = time() - start\n",
    "    \n",
    "    return np.array_equal(sa, va) if sz == -1 else (st, vt, bt)\n",
    "\n",
    "def distance_paint(step=100, k=25):\n",
    "    sizes = np.array([i * step + 1 for i in range(0, k)])\n",
    "    simplearr, vectarr, basearr = [], [], []\n",
    "\n",
    "    print(\"Counting started\")\n",
    "\n",
    "    for i in range(0, k):\n",
    "        (st, vt, bt) = distance_gen(sizes[i])\n",
    "        simplearr.append(st)\n",
    "        vectarr.append(vt)\n",
    "        basearr.append(bt)\n",
    "        print(f\"Step {i} complete!\")\n",
    "\n",
    "    simplearr = np.array(simplearr)\n",
    "    vectarr = np.array(vectarr)\n",
    "    basearr = np.array(basearr)\n",
    "\n",
    "    plt.plot(sizes, simplearr, label=\"Невекторизованная\")\n",
    "    plt.plot(sizes, vectarr, label=\"Векторизованная\")\n",
    "    plt.plot(sizes, basearr, label=\"Системная\")\n",
    "    plt.xlabel(\"Линейные размеры данных\")\n",
    "    plt.ylabel(\"Время\")\n",
    "    plt.grid()\n",
    "    plt.legend()\n",
    "\n",
    "    plt.show()\n",
    "    "
   ]
  },
  {
   "cell_type": "code",
   "execution_count": 239,
   "metadata": {},
   "outputs": [
    {
     "name": "stdout",
     "output_type": "stream",
     "text": [
      "Test 0 complete!\n"
     ]
    },
    {
     "name": "stderr",
     "output_type": "stream",
     "text": [
      "/tmp/ipykernel_4072/1618004769.py:10: RuntimeWarning: overflow encountered in scalar add\n",
      "  cnt += (xi - yi) ** 2\n"
     ]
    },
    {
     "name": "stdout",
     "output_type": "stream",
     "text": [
      "Test 1 complete!\n",
      "Test 2 complete!\n",
      "Test 3 complete!\n",
      "Test 4 complete!\n",
      "Test 5 complete!\n",
      "Test 6 complete!\n",
      "Test 7 complete!\n",
      "Test 8 complete!\n",
      "Test 9 complete!\n",
      "Test 10 complete!\n",
      "Test 11 complete!\n",
      "Test 12 complete!\n",
      "Test 13 complete!\n",
      "Test 14 complete!\n",
      "Test 15 complete!\n",
      "Test 16 complete!\n",
      "Test 17 complete!\n",
      "Test 18 complete!\n",
      "Test 19 complete!\n",
      "Test 20 complete!\n",
      "Test 21 complete!\n",
      "Test 22 complete!\n",
      "Test 23 complete!\n",
      "Test 24 complete!\n",
      "Test 25 complete!\n",
      "Test 26 complete!\n",
      "Test 27 complete!\n",
      "Test 28 complete!\n",
      "Test 29 complete!\n",
      "Test 30 complete!\n",
      "Test 31 complete!\n",
      "Test 32 complete!\n",
      "Test 33 complete!\n",
      "Test 34 complete!\n",
      "Test 35 complete!\n",
      "Test 36 complete!\n",
      "Test 37 complete!\n",
      "Test 38 complete!\n",
      "Test 39 complete!\n",
      "Test 40 complete!\n",
      "Test 41 complete!\n",
      "Test 42 complete!\n",
      "Test 43 complete!\n",
      "Test 44 complete!\n",
      "Test 45 complete!\n",
      "Test 46 complete!\n",
      "Test 47 complete!\n",
      "Test 48 complete!\n",
      "Test 49 complete!\n",
      "Test 50 complete!\n",
      "Test 51 complete!\n",
      "Test 52 complete!\n",
      "Test 53 complete!\n",
      "Test 54 complete!\n",
      "Test 55 complete!\n",
      "Test 56 complete!\n",
      "Test 57 complete!\n",
      "Test 58 complete!\n",
      "Test 59 complete!\n",
      "Test 60 complete!\n",
      "Test 61 complete!\n",
      "Test 62 complete!\n",
      "Test 63 complete!\n",
      "Test 64 complete!\n",
      "Test 65 complete!\n",
      "Test 66 complete!\n",
      "Test 67 complete!\n",
      "Test 68 complete!\n",
      "Test 69 complete!\n",
      "Test 70 complete!\n",
      "Test 71 complete!\n",
      "Test 72 complete!\n",
      "Test 73 complete!\n",
      "Test 74 complete!\n",
      "Test 75 complete!\n",
      "Test 76 complete!\n",
      "Test 77 complete!\n",
      "Test 78 complete!\n",
      "Test 79 complete!\n",
      "Test 80 complete!\n",
      "Test 81 complete!\n",
      "Test 82 complete!\n",
      "Test 83 complete!\n",
      "Test 84 complete!\n",
      "Test 85 complete!\n",
      "Test 86 complete!\n",
      "Test 87 complete!\n",
      "Test 88 complete!\n",
      "Test 89 complete!\n",
      "Test 90 complete!\n",
      "Test 91 complete!\n",
      "Test 92 complete!\n",
      "Test 93 complete!\n",
      "Test 94 complete!\n",
      "Test 95 complete!\n",
      "Test 96 complete!\n",
      "Test 97 complete!\n",
      "Test 98 complete!\n",
      "Test 99 complete!\n"
     ]
    },
    {
     "data": {
      "text/plain": [
       "True"
      ]
     },
     "execution_count": 239,
     "metadata": {},
     "output_type": "execute_result"
    }
   ],
   "source": [
    "stress(distance_gen)"
   ]
  },
  {
   "cell_type": "code",
   "execution_count": 241,
   "metadata": {},
   "outputs": [
    {
     "name": "stdout",
     "output_type": "stream",
     "text": [
      "Counting started\n",
      "Step 0 complete!\n",
      "Step 1 complete!\n",
      "Step 2 complete!\n",
      "Step 3 complete!\n",
      "Step 4 complete!\n",
      "Step 5 complete!\n",
      "Step 6 complete!\n",
      "Step 7 complete!\n",
      "Step 8 complete!\n"
     ]
    },
    {
     "name": "stderr",
     "output_type": "stream",
     "text": [
      "/tmp/ipykernel_4072/1618004769.py:10: RuntimeWarning: overflow encountered in scalar add\n",
      "  cnt += (xi - yi) ** 2\n"
     ]
    },
    {
     "name": "stdout",
     "output_type": "stream",
     "text": [
      "Step 9 complete!\n",
      "Step 10 complete!\n",
      "Step 11 complete!\n",
      "Step 12 complete!\n",
      "Step 13 complete!\n",
      "Step 14 complete!\n",
      "Step 15 complete!\n",
      "Step 16 complete!\n",
      "Step 17 complete!\n",
      "Step 18 complete!\n",
      "Step 19 complete!\n",
      "Step 20 complete!\n",
      "Step 21 complete!\n",
      "Step 22 complete!\n",
      "Step 23 complete!\n",
      "Step 24 complete!\n",
      "Step 25 complete!\n",
      "Step 26 complete!\n",
      "Step 27 complete!\n",
      "Step 28 complete!\n",
      "Step 29 complete!\n",
      "Step 30 complete!\n",
      "Step 31 complete!\n",
      "Step 32 complete!\n",
      "Step 33 complete!\n",
      "Step 34 complete!\n",
      "Step 35 complete!\n",
      "Step 36 complete!\n",
      "Step 37 complete!\n",
      "Step 38 complete!\n",
      "Step 39 complete!\n"
     ]
    },
    {
     "data": {
      "image/png": "[encoded data removed]",
      "text/plain": [
       "<Figure size 640x480 with 1 Axes>"
      ]
     },
     "metadata": {},
     "output_type": "display_data"
    }
   ],
   "source": [
    "distance_paint(step=5, k=40)"
   ]
  },
  {
   "cell_type": "markdown",
   "metadata": {},
   "source": [
    "### Туториал по Markdown\n",
    "\n",
    "__(1 балл)__\n",
    "\n",
    "Напишите краткий (а в данной домашке ещё и почти бесмысленный) отчёт с использованием 4-5 различных вариантов разметки/выделения текста."
   ]
  },
  {
   "cell_type": "markdown",
   "metadata": {},
   "source": [
    "# Решение\n",
    "\n",
    "---\n",
    "\n",
    "`(Данный текст представляет собой копию того, что написано наверху)`\n",
    "\n",
    "Ниже представлена реализация функций ДЗ, а также функций тестирования. В каждой задаче есть __3 функции__:\n",
    "\n",
    "- Функция *simple*. Описывает невекторизованное решение.\n",
    "- Функция *vect*. Описывает векторизованное решение.\n",
    "- Функция *gen*. Генератор. Принимает на вход $sz$ - линейный размер входных данных или $-1$, если необходимо сгенерировать случайный тест. Возвращает True/False (совпадают ли ответы), если $sz = -1$, или пару времен работы простого и векторизованного решения иначе.\n",
    "\n",
    "Вспомогательные функции:\n",
    "\n",
    "- Функция *paint*. Рисует графики. Принимает $k$ - кол-во точек измерения, $step$ - расстояние между соседними точками.\n",
    "- Функция *stress*. Производит тестирование. Принимает $tests$ - кол-во тестов. \n",
    "\n",
    "Исключения:\n",
    "\n",
    "- В задаче с изображением есть функция *image_test*, которая обесцвечивает изображение, находящееся в папке *test*.\n",
    "- В задаче с расстояниями функция *paint* отдельная, т.к. надо рисовать три ломаные."
   ]
  }
 ],
 "metadata": {
  "kernelspec": {
   "display_name": "Python 3 (ipykernel)",
   "language": "python",
   "name": "python3"
  },
  "language_info": {
   "codemirror_mode": {
    "name": "ipython",
    "version": 3
   },
   "file_extension": ".py",
   "mimetype": "text/x-python",
   "name": "python",
   "nbconvert_exporter": "python",
   "pygments_lexer": "ipython3",
   "version": "3.11.4"
  }
 },
 "nbformat": 4,
 "nbformat_minor": 2
}
